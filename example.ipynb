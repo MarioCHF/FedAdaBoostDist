{
 "cells": [
  {
   "cell_type": "code",
   "execution_count": 22,
   "metadata": {},
   "outputs": [],
   "source": [
    "from models.PolatoAdaBoost import polato_AdaBoost_eval\n",
    "from models.FRF import FRF_eval\n",
    "from models.FL_AdaBoost_Dist import FLEnsembleDist\n",
    "from sklearn.model_selection import train_test_split\n",
    "from flextrees.datasets.tabular_datasets import adult\n",
    "import numpy as np"
   ]
  },
  {
   "cell_type": "markdown",
   "metadata": {},
   "source": [
    "Load the dataset"
   ]
  },
  {
   "cell_type": "code",
   "execution_count": 26,
   "metadata": {},
   "outputs": [],
   "source": [
    "seed = 0\n",
    "train_data, test_data = adult(ret_feature_names=False, categorical=False)\n",
    "X_data,y_data = train_data.to_numpy()\n",
    "X_test,y_test = test_data.to_numpy()\n",
    "X_data = np.concatenate((X_data,X_test))\n",
    "y_data = np.concatenate((y_data,y_test))"
   ]
  },
  {
   "cell_type": "code",
   "execution_count": 27,
   "metadata": {},
   "outputs": [],
   "source": [
    "#Separate public data\n",
    "data,public_data,targets,predicted_public_data = train_test_split(X_data,y_data,test_size=0.25,train_size=0.75,random_state=seed)\n",
    "#Get train and test set\n",
    "X_train,X_test,y_train,y_test = train_test_split(data,targets,test_size=0.1,train_size=0.9,random_state=seed)"
   ]
  },
  {
   "cell_type": "code",
   "execution_count": 28,
   "metadata": {},
   "outputs": [],
   "source": [
    "#When creating the model the data partition according to the chosen data distribution is made. \n",
    "o_s_Wmv_cw = FLEnsembleDist(X_train,y_train,public_data,Nclients=10,max_depth=8,T=10,\n",
    "                                        data_distribution='niid_quantity_skew',distribution_param=0.5,\n",
    "                                        public_data_prediction='weighted_majority_voting',server_alpha_weight_adj='common_weighted',\n",
    "                                        prediction_weights='only_server',random_state=seed)\n",
    "#store data distrib for later models\n",
    "train_dict = o_s_Wmv_cw.train_clients_data.copy()\n",
    "test_dict = o_s_Wmv_cw.test_clients_data.copy()\n",
    "#Takes the columns of weights of AdaBoost out\n",
    "for key,(train,labeltr) in train_dict.items():\n",
    "    train_dict[key] = (train[:,:-1],labeltr)\n",
    "    test,labelte = test_dict[key]\n",
    "    test_dict[key] = (test[:,:-1],labelte)"
   ]
  },
  {
   "cell_type": "code",
   "execution_count": 29,
   "metadata": {},
   "outputs": [],
   "source": [
    "#Train the model\n",
    "o_s_Wmv_cw.fitmodel()"
   ]
  },
  {
   "cell_type": "code",
   "execution_count": 30,
   "metadata": {},
   "outputs": [
    {
     "name": "stdout",
     "output_type": "stream",
     "text": [
      "84.19328419328419 85.08712268545413 86.50632468760037 87.33632926329648\n"
     ]
    }
   ],
   "source": [
    "#We can simply evaluate how the federated model works in local tests (on average) and global test \n",
    "os_cw_acc_global,os_cw_f1_global,os_cw_acc_local,os_cw_f1_local = o_s_Wmv_cw.sumar_overall_score(X_test,y_test)\n",
    "print(os_cw_acc_global,os_cw_f1_global,os_cw_acc_local,os_cw_f1_local)"
   ]
  },
  {
   "cell_type": "code",
   "execution_count": 31,
   "metadata": {},
   "outputs": [],
   "source": [
    "#If we want to compare it to the local models, we first need to train local models with same data\n",
    "o_s_Wmv_cw.fit_local_clients_models()"
   ]
  },
  {
   "cell_type": "code",
   "execution_count": 32,
   "metadata": {},
   "outputs": [
    {
     "data": {
      "text/html": [
       "<div>\n",
       "<style scoped>\n",
       "    .dataframe tbody tr th:only-of-type {\n",
       "        vertical-align: middle;\n",
       "    }\n",
       "\n",
       "    .dataframe tbody tr th {\n",
       "        vertical-align: top;\n",
       "    }\n",
       "\n",
       "    .dataframe thead th {\n",
       "        text-align: right;\n",
       "    }\n",
       "</style>\n",
       "<table border=\"1\" class=\"dataframe\">\n",
       "  <thead>\n",
       "    <tr style=\"text-align: right;\">\n",
       "      <th></th>\n",
       "      <th>data_distrib</th>\n",
       "      <th>FL_acc_own_data</th>\n",
       "      <th>FL_acc_global_data</th>\n",
       "      <th>local_acc_own_data</th>\n",
       "      <th>local_acc_global_data</th>\n",
       "      <th>local_difference</th>\n",
       "      <th>global_difference</th>\n",
       "    </tr>\n",
       "  </thead>\n",
       "  <tbody>\n",
       "    <tr>\n",
       "      <th>0</th>\n",
       "      <td>1202.0</td>\n",
       "      <td>81.343284</td>\n",
       "      <td>84.193284</td>\n",
       "      <td>79.104478</td>\n",
       "      <td>82.841933</td>\n",
       "      <td>2.238806</td>\n",
       "      <td>1.351351</td>\n",
       "    </tr>\n",
       "    <tr>\n",
       "      <th>1</th>\n",
       "      <td>55.0</td>\n",
       "      <td>100.000000</td>\n",
       "      <td>84.193284</td>\n",
       "      <td>71.428571</td>\n",
       "      <td>79.770680</td>\n",
       "      <td>28.571429</td>\n",
       "      <td>4.422604</td>\n",
       "    </tr>\n",
       "    <tr>\n",
       "      <th>2</th>\n",
       "      <td>596.0</td>\n",
       "      <td>82.089552</td>\n",
       "      <td>84.193284</td>\n",
       "      <td>77.611940</td>\n",
       "      <td>81.326781</td>\n",
       "      <td>4.477612</td>\n",
       "      <td>2.866503</td>\n",
       "    </tr>\n",
       "    <tr>\n",
       "      <th>3</th>\n",
       "      <td>1503.0</td>\n",
       "      <td>83.832335</td>\n",
       "      <td>84.193284</td>\n",
       "      <td>85.628743</td>\n",
       "      <td>82.473382</td>\n",
       "      <td>-1.796407</td>\n",
       "      <td>1.719902</td>\n",
       "    </tr>\n",
       "    <tr>\n",
       "      <th>4</th>\n",
       "      <td>162.0</td>\n",
       "      <td>89.473684</td>\n",
       "      <td>84.193284</td>\n",
       "      <td>84.210526</td>\n",
       "      <td>80.917281</td>\n",
       "      <td>5.263158</td>\n",
       "      <td>3.276003</td>\n",
       "    </tr>\n",
       "    <tr>\n",
       "      <th>5</th>\n",
       "      <td>487.0</td>\n",
       "      <td>85.454545</td>\n",
       "      <td>84.193284</td>\n",
       "      <td>81.818182</td>\n",
       "      <td>82.309582</td>\n",
       "      <td>3.636364</td>\n",
       "      <td>1.883702</td>\n",
       "    </tr>\n",
       "    <tr>\n",
       "      <th>6</th>\n",
       "      <td>7017.0</td>\n",
       "      <td>85.512821</td>\n",
       "      <td>84.193284</td>\n",
       "      <td>85.641026</td>\n",
       "      <td>83.988534</td>\n",
       "      <td>-0.128205</td>\n",
       "      <td>0.204750</td>\n",
       "    </tr>\n",
       "    <tr>\n",
       "      <th>7</th>\n",
       "      <td>5527.0</td>\n",
       "      <td>82.439024</td>\n",
       "      <td>84.193284</td>\n",
       "      <td>83.739837</td>\n",
       "      <td>83.988534</td>\n",
       "      <td>-1.300813</td>\n",
       "      <td>0.204750</td>\n",
       "    </tr>\n",
       "    <tr>\n",
       "      <th>8</th>\n",
       "      <td>1909.0</td>\n",
       "      <td>84.507042</td>\n",
       "      <td>84.193284</td>\n",
       "      <td>78.873239</td>\n",
       "      <td>82.022932</td>\n",
       "      <td>5.633803</td>\n",
       "      <td>2.170352</td>\n",
       "    </tr>\n",
       "    <tr>\n",
       "      <th>9</th>\n",
       "      <td>1314.0</td>\n",
       "      <td>90.410959</td>\n",
       "      <td>84.193284</td>\n",
       "      <td>87.671233</td>\n",
       "      <td>82.227682</td>\n",
       "      <td>2.739726</td>\n",
       "      <td>1.965602</td>\n",
       "    </tr>\n",
       "  </tbody>\n",
       "</table>\n",
       "</div>"
      ],
      "text/plain": [
       "   data_distrib  FL_acc_own_data  FL_acc_global_data  local_acc_own_data  \\\n",
       "0        1202.0        81.343284           84.193284           79.104478   \n",
       "1          55.0       100.000000           84.193284           71.428571   \n",
       "2         596.0        82.089552           84.193284           77.611940   \n",
       "3        1503.0        83.832335           84.193284           85.628743   \n",
       "4         162.0        89.473684           84.193284           84.210526   \n",
       "5         487.0        85.454545           84.193284           81.818182   \n",
       "6        7017.0        85.512821           84.193284           85.641026   \n",
       "7        5527.0        82.439024           84.193284           83.739837   \n",
       "8        1909.0        84.507042           84.193284           78.873239   \n",
       "9        1314.0        90.410959           84.193284           87.671233   \n",
       "\n",
       "   local_acc_global_data  local_difference  global_difference  \n",
       "0              82.841933          2.238806           1.351351  \n",
       "1              79.770680         28.571429           4.422604  \n",
       "2              81.326781          4.477612           2.866503  \n",
       "3              82.473382         -1.796407           1.719902  \n",
       "4              80.917281          5.263158           3.276003  \n",
       "5              82.309582          3.636364           1.883702  \n",
       "6              83.988534         -0.128205           0.204750  \n",
       "7              83.988534         -1.300813           0.204750  \n",
       "8              82.022932          5.633803           2.170352  \n",
       "9              82.227682          2.739726           1.965602  "
      ]
     },
     "execution_count": 32,
     "metadata": {},
     "output_type": "execute_result"
    }
   ],
   "source": [
    "#Then we can get a Dataframe with all the results for each client\n",
    "o_s_Wmv_cw.overall_acc_score(X_test,y_test)"
   ]
  },
  {
   "cell_type": "code",
   "execution_count": 33,
   "metadata": {},
   "outputs": [],
   "source": [
    "#Now we can use it to compare it to other state of the art algorithm with the function:\n",
    "#For FRF 100 estimators:\n",
    "FRF_acc_global,FRF_f1_global,FRF_acc_local,FRF_f1_local = FRF_eval(train_dict,test_dict,X_test,y_test,hyperparameters='theirs')\n"
   ]
  },
  {
   "cell_type": "code",
   "execution_count": 34,
   "metadata": {},
   "outputs": [],
   "source": [
    "#For DistBoost.F:\n",
    "DB_acc_global,DB_f1_global,DB_acc_local,DB_f1_local = polato_AdaBoost_eval(train_dict,test_dict,\n",
    "                                                                            X_test,y_test, seed, model='distsamme',n_estimators=10,max_depth=8) \n"
   ]
  },
  {
   "cell_type": "code",
   "execution_count": 35,
   "metadata": {},
   "outputs": [],
   "source": [
    "#PreWeak.F\n",
    "PW_acc_global,PW_f1_global,PW_acc_local,PW_f1_local= polato_AdaBoost_eval(train_dict,test_dict, \n",
    "                                                                          X_test,y_test, seed, model='preweaksamme',n_estimators=10,max_depth=8)\n"
   ]
  },
  {
   "cell_type": "code",
   "execution_count": 36,
   "metadata": {},
   "outputs": [],
   "source": [
    "#AdaBoost.F\n",
    "AB_acc_global,AB_f1_global,AB_acc_local,AB_f1_local = polato_AdaBoost_eval(train_dict,test_dict,\n",
    "                                                                            X_test,y_test, seed, model='adaboost.f1',n_estimators=10,max_depth=8)\n",
    "            "
   ]
  },
  {
   "cell_type": "code",
   "execution_count": 37,
   "metadata": {},
   "outputs": [
    {
     "name": "stdout",
     "output_type": "stream",
     "text": [
      "FRF:  83.33333333333334 81.69952769841449 82.66393359923019 80.75650513185138\n",
      "DistBoost.F:  84.6027846027846 84.07257202689499 86.73970608896585 86.51509739585578\n",
      "PreWeak.F:  85.0941850941851 84.42212597838255 85.43273774170373 84.7648646315737\n",
      "AdaBoost.F:  84.35708435708436 83.875014868358 87.29246144230515 87.00041923813072\n"
     ]
    }
   ],
   "source": [
    "print('FRF: ',FRF_acc_global,FRF_f1_global,FRF_acc_local,FRF_f1_local)\n",
    "print('DistBoost.F: ',DB_acc_global,DB_f1_global,DB_acc_local,DB_f1_local)\n",
    "print('PreWeak.F: ', PW_acc_global,PW_f1_global,PW_acc_local,PW_f1_local)\n",
    "print('AdaBoost.F: ', AB_acc_global,AB_f1_global,AB_acc_local,AB_f1_local)"
   ]
  }
 ],
 "metadata": {
  "kernelspec": {
   "display_name": ".venv",
   "language": "python",
   "name": "python3"
  },
  "language_info": {
   "codemirror_mode": {
    "name": "ipython",
    "version": 3
   },
   "file_extension": ".py",
   "mimetype": "text/x-python",
   "name": "python",
   "nbconvert_exporter": "python",
   "pygments_lexer": "ipython3",
   "version": "3.11.5"
  }
 },
 "nbformat": 4,
 "nbformat_minor": 2
}
